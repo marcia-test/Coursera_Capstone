{
 "cells": [
  {
   "cell_type": "markdown",
   "id": "14f72059-03da-430f-9012-31cadd17f069",
   "metadata": {
    "tags": []
   },
   "source": [
    "# Week 3 Assignment - First Part"
   ]
  },
  {
   "cell_type": "code",
   "execution_count": null,
   "id": "04848b7f-b3fb-4d1d-a830-b7c2daa5ee22",
   "metadata": {
    "tags": []
   },
   "outputs": [],
   "source": [
    "!pip install bs4"
   ]
  },
  {
   "cell_type": "code",
   "execution_count": null,
   "id": "82869522-ef00-4eba-a7f2-0f00c1ad981b",
   "metadata": {},
   "outputs": [],
   "source": [
    "import pandas as pd\n",
    "import requests\n",
    "from bs4 import BeautifulSoup"
   ]
  },
  {
   "cell_type": "markdown",
   "id": "b6f04487-1943-4ba4-a460-3e1370bc3d25",
   "metadata": {},
   "source": [
    "#### Retrieve the Toronto neighborhood data at Wikipedia page and create a Beautiful soup object"
   ]
  },
  {
   "cell_type": "code",
   "execution_count": null,
   "id": "3d7bbf23-533b-4c57-9d8d-beab501a3ad3",
   "metadata": {},
   "outputs": [],
   "source": [
    "url = \"https://en.wikipedia.org/wiki/List_of_postal_codes_of_Canada:_M\""
   ]
  },
  {
   "cell_type": "code",
   "execution_count": null,
   "id": "c2837ea9-7525-410a-90d6-7c427ef6b68f",
   "metadata": {},
   "outputs": [],
   "source": [
    "data  = requests.get(url).text "
   ]
  },
  {
   "cell_type": "code",
   "execution_count": null,
   "id": "2b2cd886-105f-4742-8b21-a670ac488897",
   "metadata": {},
   "outputs": [],
   "source": [
    "soup = BeautifulSoup(data,\"html5lib\")"
   ]
  },
  {
   "cell_type": "markdown",
   "id": "4a7f4d60-9f6a-40a0-b8da-5dd43900f874",
   "metadata": {},
   "source": [
    "#### Scrape the data, wrangle it and clean it"
   ]
  },
  {
   "cell_type": "code",
   "execution_count": null,
   "id": "a74570e2-6279-4c7d-9e57-382a9503c47e",
   "metadata": {},
   "outputs": [],
   "source": [
    "table_contents=[]\n",
    "table=soup.find('table')\n",
    "for row in table.findAll('td'):\n",
    "    cell = {}\n",
    "    if row.span.text=='Not assigned':\n",
    "        pass\n",
    "    else:\n",
    "        cell['PostalCode'] = row.p.text[:3]\n",
    "        cell['Borough'] = (row.span.text).split('(')[0]\n",
    "        cell['Neighborhood'] = (((((row.span.text).split('(')[1]).strip(')')).replace(' /',',')).replace(')',' ')).strip(' ')\n",
    "        table_contents.append(cell)\n",
    "\n",
    "print(table_contents)"
   ]
  },
  {
   "cell_type": "markdown",
   "id": "344cbb40-461c-41d4-b67c-b204474dbe59",
   "metadata": {},
   "source": [
    "#### Create a dataframe with the list generated"
   ]
  },
  {
   "cell_type": "code",
   "execution_count": null,
   "id": "99cfb7f4-d1db-4773-aa45-b3de1b638a87",
   "metadata": {},
   "outputs": [],
   "source": [
    "df=pd.DataFrame(table_contents)\n",
    "df['Borough']=df['Borough'].replace({'Downtown TorontoStn A PO Boxes25 The Esplanade':'Downtown Toronto Stn A',\n",
    "                                             'East TorontoBusiness reply mail Processing Centre969 Eastern':'East Toronto Business',\n",
    "                                             'EtobicokeNorthwest':'Etobicoke Northwest','East YorkEast Toronto':'East York/East Toronto',\n",
    "                                             'MississaugaCanada Post Gateway Processing Centre':'Mississauga'})"
   ]
  },
  {
   "cell_type": "code",
   "execution_count": null,
   "id": "c2a871dd-2d28-4d66-b4c8-fc2be4618612",
   "metadata": {},
   "outputs": [],
   "source": [
    "df.shape"
   ]
  }
 ],
 "metadata": {
  "kernelspec": {
   "display_name": "Python",
   "language": "python",
   "name": "conda-env-python-py"
  },
  "language_info": {
   "codemirror_mode": {
    "name": "ipython",
    "version": 3
   },
   "file_extension": ".py",
   "mimetype": "text/x-python",
   "name": "python",
   "nbconvert_exporter": "python",
   "pygments_lexer": "ipython3",
   "version": "3.6.13"
  }
 },
 "nbformat": 4,
 "nbformat_minor": 5
}
