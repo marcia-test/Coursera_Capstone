{
 "cells": [
  {
   "cell_type": "markdown",
   "id": "14f72059-03da-430f-9012-31cadd17f069",
   "metadata": {
    "tags": []
   },
   "source": [
    "# Neighborhoods with Plant-based Restaurants in Toronto"
   ]
  },
  {
   "cell_type": "code",
   "execution_count": 1,
   "id": "04848b7f-b3fb-4d1d-a830-b7c2daa5ee22",
   "metadata": {
    "tags": []
   },
   "outputs": [
    {
     "name": "stdout",
     "output_type": "stream",
     "text": [
      "Collecting bs4\n",
      "  Downloading https://files.pythonhosted.org/packages/10/ed/7e8b97591f6f456174139ec089c769f89a94a1a4025fe967691de971f314/bs4-0.0.1.tar.gz\n",
      "Collecting beautifulsoup4 (from bs4)\n",
      "\u001b[?25l  Downloading https://files.pythonhosted.org/packages/d1/41/e6495bd7d3781cee623ce23ea6ac73282a373088fcd0ddc809a047b18eae/beautifulsoup4-4.9.3-py3-none-any.whl (115kB)\n",
      "\u001b[K     |████████████████████████████████| 122kB 34.9MB/s eta 0:00:01\n",
      "\u001b[?25hCollecting soupsieve>1.2; python_version >= \"3.0\" (from beautifulsoup4->bs4)\n",
      "  Downloading https://files.pythonhosted.org/packages/36/69/d82d04022f02733bf9a72bc3b96332d360c0c5307096d76f6bb7489f7e57/soupsieve-2.2.1-py3-none-any.whl\n",
      "Building wheels for collected packages: bs4\n",
      "  Building wheel for bs4 (setup.py) ... \u001b[?25ldone\n",
      "\u001b[?25h  Stored in directory: /home/jupyterlab/.cache/pip/wheels/a0/b0/b2/4f80b9456b87abedbc0bf2d52235414c3467d8889be38dd472\n",
      "Successfully built bs4\n",
      "Installing collected packages: soupsieve, beautifulsoup4, bs4\n",
      "Successfully installed beautifulsoup4-4.9.3 bs4-0.0.1 soupsieve-2.2.1\n"
     ]
    }
   ],
   "source": [
    "!pip install bs4"
   ]
  },
  {
   "cell_type": "code",
   "execution_count": null,
   "id": "82869522-ef00-4eba-a7f2-0f00c1ad981b",
   "metadata": {},
   "outputs": [
    {
     "name": "stdout",
     "output_type": "stream",
     "text": [
      "Collecting package metadata (current_repodata.json): done\n",
      "Solving environment: done\n",
      "\n",
      "## Package Plan ##\n",
      "\n",
      "  environment location: /home/jupyterlab/conda/envs/python\n",
      "\n",
      "  added / updated specs:\n",
      "    - geopy\n",
      "\n",
      "\n",
      "The following packages will be downloaded:\n",
      "\n",
      "    package                    |            build\n",
      "    ---------------------------|-----------------\n",
      "    ca-certificates-2020.12.5  |       ha878542_0         137 KB  conda-forge\n",
      "    geographiclib-1.50         |             py_0          34 KB  conda-forge\n",
      "    geopy-2.1.0                |     pyhd3deb0d_0          64 KB  conda-forge\n",
      "    ------------------------------------------------------------\n",
      "                                           Total:         235 KB\n",
      "\n",
      "The following NEW packages will be INSTALLED:\n",
      "\n",
      "  geographiclib      conda-forge/noarch::geographiclib-1.50-py_0\n",
      "  geopy              conda-forge/noarch::geopy-2.1.0-pyhd3deb0d_0\n",
      "\n",
      "The following packages will be SUPERSEDED by a higher-priority channel:\n",
      "\n",
      "  ca-certificates    pkgs/main::ca-certificates-2021.4.13-~ --> conda-forge::ca-certificates-2020.12.5-ha878542_0\n",
      "\n",
      "\n",
      "\n",
      "Downloading and Extracting Packages\n",
      "ca-certificates-2020 | 137 KB    | ##################################### | 100% \n",
      "geopy-2.1.0          | 64 KB     | ##################################### | 100% \n",
      "geographiclib-1.50   | 34 KB     | ##################################### | 100% \n",
      "Preparing transaction: done\n",
      "Verifying transaction: done\n",
      "Executing transaction: done\n",
      "Collecting package metadata (current_repodata.json): done\n",
      "Solving environment: failed with initial frozen solve. Retrying with flexible solve.\n",
      "Collecting package metadata (repodata.json): done\n",
      "Solving environment: done\n",
      "\n",
      "## Package Plan ##\n",
      "\n",
      "  environment location: /home/jupyterlab/conda/envs/python\n",
      "\n",
      "  added / updated specs:\n",
      "    - folium=0.5.0\n",
      "\n",
      "\n",
      "The following packages will be downloaded:\n",
      "\n",
      "    package                    |            build\n",
      "    ---------------------------|-----------------\n",
      "    altair-4.1.0               |             py_1         614 KB  conda-forge\n",
      "    attrs-21.2.0               |     pyhd8ed1ab_0          44 KB  conda-forge\n",
      "    branca-0.4.2               |     pyhd8ed1ab_0          26 KB  conda-forge\n",
      "    entrypoints-0.3            |  pyhd8ed1ab_1003           8 KB  conda-forge\n",
      "    folium-0.5.0               |             py_0          45 KB  conda-forge\n",
      "    jsonschema-3.2.0           |     pyhd8ed1ab_3          45 KB  conda-forge\n",
      "    pandas-1.1.5               |   py36h284efc9_0        11.3 MB  conda-forge\n",
      "    pyrsistent-0.17.3          |   py36h8f6f2f9_2          89 KB  conda-forge\n",
      "    pytz-2021.1                |     pyhd8ed1ab_0         239 KB  conda-forge\n",
      "    vincent-0.4.4              |             py_1          28 KB  conda-forge\n",
      "    ------------------------------------------------------------\n",
      "                                           Total:        12.4 MB\n",
      "\n",
      "The following NEW packages will be INSTALLED:\n",
      "\n",
      "  altair             conda-forge/noarch::altair-4.1.0-py_1\n",
      "  attrs              conda-forge/noarch::attrs-21.2.0-pyhd8ed1ab_0\n",
      "  branca             conda-forge/noarch::branca-0.4.2-pyhd8ed1ab_0\n",
      "  entrypoints        conda-forge/noarch::entrypoints-0.3-pyhd8ed1ab_1003\n",
      "  folium             conda-forge/noarch::folium-0.5.0-py_0\n",
      "  jsonschema         conda-forge/noarch::jsonschema-3.2.0-pyhd8ed1ab_3\n",
      "  pandas             conda-forge/linux-64::pandas-1.1.5-py36h284efc9_0\n",
      "  pyrsistent         conda-forge/linux-64::pyrsistent-0.17.3-py36h8f6f2f9_2\n",
      "  pytz               conda-forge/noarch::pytz-2021.1-pyhd8ed1ab_0\n",
      "  vincent            conda-forge/noarch::vincent-0.4.4-py_1\n",
      "\n",
      "\n",
      "\n",
      "Downloading and Extracting Packages\n",
      "pyrsistent-0.17.3    | 89 KB     | ##################################### | 100% \n",
      "folium-0.5.0         | 45 KB     | ##################################### | 100% \n",
      "branca-0.4.2         | 26 KB     | ##################################### | 100% \n",
      "altair-4.1.0         | 614 KB    | ##################################### | 100% \n",
      "attrs-21.2.0         | 44 KB     | ##################################### | 100% \n",
      "pandas-1.1.5         | 11.3 MB   | ##################################### | 100% \n",
      "entrypoints-0.3      | 8 KB      | ##################################### | 100% \n",
      "jsonschema-3.2.0     | 45 KB     | ##################################### | 100% \n",
      "pytz-2021.1          | 239 KB    | ##################################### | 100% \n",
      "vincent-0.4.4        | 28 KB     | ##################################### | 100% \n",
      "Preparing transaction: done\n",
      "Verifying transaction: done\n",
      "Executing transaction: | "
     ]
    }
   ],
   "source": [
    "import pandas as pd\n",
    "import requests\n",
    "from bs4 import BeautifulSoup\n",
    "\n",
    "import numpy as np \n",
    "\n",
    "pd.set_option('display.max_columns', None)\n",
    "pd.set_option('display.max_rows', None)\n",
    "\n",
    "import json \n",
    "\n",
    "!conda install -c conda-forge geopy --yes \n",
    "from geopy.geocoders import Nominatim \n",
    "\n",
    "from pandas.io.json import json_normalize \n",
    "\n",
    "# Matplotlib and associated plotting modules\n",
    "import matplotlib.cm as cm\n",
    "import matplotlib.colors as colors\n",
    "\n",
    "# import k-means from clustering stage\n",
    "from sklearn.cluster import KMeans\n",
    "\n",
    "!conda install -c conda-forge folium=0.5.0 --yes \n",
    "import folium # map rendering library\n",
    "\n",
    "print('Libraries imported.')"
   ]
  },
  {
   "cell_type": "markdown",
   "id": "60a3e2c9-dbd1-4ce9-9868-4b0d056461e4",
   "metadata": {},
   "source": [
    "## Get Toronto Neighborhood Data"
   ]
  },
  {
   "cell_type": "markdown",
   "id": "b6f04487-1943-4ba4-a460-3e1370bc3d25",
   "metadata": {},
   "source": [
    "### Retrieve the Toronto neighborhood data at Wikipedia page and create a Beautiful soup object"
   ]
  },
  {
   "cell_type": "code",
   "execution_count": null,
   "id": "3d7bbf23-533b-4c57-9d8d-beab501a3ad3",
   "metadata": {},
   "outputs": [],
   "source": [
    "url = \"https://en.wikipedia.org/wiki/List_of_postal_codes_of_Canada:_M\""
   ]
  },
  {
   "cell_type": "code",
   "execution_count": null,
   "id": "c2837ea9-7525-410a-90d6-7c427ef6b68f",
   "metadata": {},
   "outputs": [],
   "source": [
    "data  = requests.get(url).text "
   ]
  },
  {
   "cell_type": "code",
   "execution_count": null,
   "id": "2b2cd886-105f-4742-8b21-a670ac488897",
   "metadata": {},
   "outputs": [],
   "source": [
    "soup = BeautifulSoup(data,\"html5lib\")"
   ]
  },
  {
   "cell_type": "markdown",
   "id": "4a7f4d60-9f6a-40a0-b8da-5dd43900f874",
   "metadata": {},
   "source": [
    "### Scrape and clean the data"
   ]
  },
  {
   "cell_type": "code",
   "execution_count": null,
   "id": "a74570e2-6279-4c7d-9e57-382a9503c47e",
   "metadata": {},
   "outputs": [],
   "source": [
    "table_contents=[]\n",
    "table=soup.find('table')\n",
    "for row in table.findAll('td'):\n",
    "    cell = {}\n",
    "    if row.span.text=='Not assigned':\n",
    "        pass\n",
    "    else:\n",
    "        cell['PostalCode'] = row.p.text[:3]\n",
    "        cell['Borough'] = (row.span.text).split('(')[0]\n",
    "        cell['Neighborhood'] = (((((row.span.text).split('(')[1]).strip(')')).replace(' /',',')).replace(')',' ')).strip(' ')\n",
    "        table_contents.append(cell)\n",
    "\n",
    "#print(table_contents)"
   ]
  },
  {
   "cell_type": "markdown",
   "id": "344cbb40-461c-41d4-b67c-b204474dbe59",
   "metadata": {},
   "source": [
    "### Create a dataframe with the list of neighborhoods"
   ]
  },
  {
   "cell_type": "code",
   "execution_count": null,
   "id": "99cfb7f4-d1db-4773-aa45-b3de1b638a87",
   "metadata": {},
   "outputs": [],
   "source": [
    "df=pd.DataFrame(table_contents)\n",
    "df['Borough']=df['Borough'].replace({'Downtown TorontoStn A PO Boxes25 The Esplanade':'Downtown Toronto Stn A',\n",
    "                                             'East TorontoBusiness reply mail Processing Centre969 Eastern':'East Toronto Business',\n",
    "                                             'EtobicokeNorthwest':'Etobicoke Northwest','East YorkEast Toronto':'East York/East Toronto',\n",
    "                                             'MississaugaCanada Post Gateway Processing Centre':'Mississauga'})"
   ]
  },
  {
   "cell_type": "code",
   "execution_count": null,
   "id": "a8ec0174-0988-4f66-b911-7f1c06a9d6a1",
   "metadata": {},
   "outputs": [],
   "source": [
    "df.head()"
   ]
  },
  {
   "cell_type": "code",
   "execution_count": null,
   "id": "c2a871dd-2d28-4d66-b4c8-fc2be4618612",
   "metadata": {},
   "outputs": [],
   "source": [
    "df.describe()"
   ]
  },
  {
   "cell_type": "markdown",
   "id": "0844375a-4ae5-4695-a6bb-91f656824d5e",
   "metadata": {},
   "source": [
    "## Get Latitude and Longitude Coordinates of Toronto neighborhoods"
   ]
  },
  {
   "cell_type": "markdown",
   "id": "a0121b58-579c-4a2c-a016-ee5d7866e81c",
   "metadata": {},
   "source": [
    "### Get geographical coordinates of each neighborhood from a csv file"
   ]
  },
  {
   "cell_type": "code",
   "execution_count": null,
   "id": "bcb1aa0f-eb21-4bef-bf6e-7c93e8d03452",
   "metadata": {},
   "outputs": [],
   "source": [
    "url_csv = \"https://cf-courses-data.s3.us.cloud-object-storage.appdomain.cloud/IBMDeveloperSkillsNetwork-DS0701EN-SkillsNetwork/labs_v1/Geospatial_Coordinates.csv\"\n",
    "ll_df = pd.read_csv(url_csv)\n",
    "#ll_df.head()"
   ]
  },
  {
   "cell_type": "code",
   "execution_count": null,
   "id": "7f6f69be-ed4d-4b83-8caf-206b0274e377",
   "metadata": {},
   "outputs": [],
   "source": [
    "ll_df.rename(columns={'Postal Code':'PostalCode'},inplace=True)"
   ]
  },
  {
   "cell_type": "code",
   "execution_count": null,
   "id": "fc4b6c0b-9627-4d11-8997-0bd56294131e",
   "metadata": {},
   "outputs": [],
   "source": [
    "ll_df.head()"
   ]
  },
  {
   "cell_type": "markdown",
   "id": "5040f967-209a-4b2d-882b-ffaa3941afcc",
   "metadata": {},
   "source": [
    "### Create a new dataframe containing postal code, borought, neighborhood, latitude and longitude information"
   ]
  },
  {
   "cell_type": "code",
   "execution_count": null,
   "id": "7edab731-15ab-4783-8f60-54af10ab8515",
   "metadata": {},
   "outputs": [],
   "source": [
    "neighborhoods = pd.merge(df, ll_df, on='PostalCode')"
   ]
  },
  {
   "cell_type": "code",
   "execution_count": null,
   "id": "2afcbadf-c262-47c2-8a79-96b74439452a",
   "metadata": {},
   "outputs": [],
   "source": [
    "neighborhoods"
   ]
  },
  {
   "cell_type": "markdown",
   "id": "eb1a8d8b-9cc8-4860-8ffd-729ea43f45ac",
   "metadata": {},
   "source": [
    "## Map of the neighborhoods in Toronto"
   ]
  },
  {
   "cell_type": "markdown",
   "id": "c7534ef8-d4a2-42f7-a3c9-1f11ed1ed924",
   "metadata": {},
   "source": [
    "### Use geopy library to get the latitude and longitude values of Toronto"
   ]
  },
  {
   "cell_type": "code",
   "execution_count": null,
   "id": "caeeba6f-d3ba-4502-9865-fe1fb25f5dcd",
   "metadata": {},
   "outputs": [],
   "source": [
    "address = 'Toronto, ON'\n",
    "\n",
    "geolocator = Nominatim(user_agent=\"toronto_explorer\")\n",
    "location = geolocator.geocode(address)\n",
    "latitude = location.latitude\n",
    "longitude = location.longitude\n",
    "print('The geograpical coordinate of Toronto are {}, {}.'.format(latitude, longitude))"
   ]
  },
  {
   "cell_type": "markdown",
   "id": "692940eb-411f-464b-9eb7-cafa398c9476",
   "metadata": {},
   "source": [
    "### Create a map of Toronto with neighborhoods superimposed on top."
   ]
  },
  {
   "cell_type": "code",
   "execution_count": null,
   "id": "51e0c139-0260-41e5-9d34-080e8b56d98a",
   "metadata": {},
   "outputs": [],
   "source": [
    "map_toronto_all = folium.Map(location=[latitude, longitude], zoom_start=10)\n",
    "\n",
    "# add markers to map\n",
    "for lat, lng, borough, neighborhood in zip(neighborhoods['Latitude'], neighborhoods['Longitude'], neighborhoods['Borough'], neighborhoods['Neighborhood']):\n",
    "    label = '{}, {}'.format(neighborhood, borough)\n",
    "    label = folium.Popup(label, parse_html=True)\n",
    "    folium.CircleMarker(\n",
    "        [lat, lng],\n",
    "        radius=5,\n",
    "        popup=label,\n",
    "        color='blue',\n",
    "        fill=True,\n",
    "        fill_color='#3186cc',\n",
    "        fill_opacity=0.7,\n",
    "        parse_html=False).add_to(map_toronto_all)  \n",
    "    \n",
    "map_toronto_all"
   ]
  },
  {
   "cell_type": "markdown",
   "id": "7440d7fa-646c-4ba5-8b35-e26f02cfef33",
   "metadata": {},
   "source": [
    "## Explore each neighborhood"
   ]
  },
  {
   "cell_type": "markdown",
   "id": "2a97036d-0673-479c-94b5-c696ff2a2c48",
   "metadata": {},
   "source": [
    "### Define Foursquare credentials to use the Foursquare API to explore the neighborhoods and segment them."
   ]
  },
  {
   "cell_type": "code",
   "execution_count": null,
   "id": "52ac0f73-bf2d-4883-a0af-075599919d20",
   "metadata": {},
   "outputs": [],
   "source": [
    "CLIENT_ID = 'WZ0XRMER3OZZEEDUZKRATHBV3NLZAWBT2XMYNNNOZTV3T0UN' \n",
    "CLIENT_SECRET = 'LCQQR0KXS2V3CNNCNB0KITDIBLTFEZOBDMWPD0MWUEN3ILIX' \n",
    "VERSION = '20180604'\n",
    "LIMIT = 100"
   ]
  },
  {
   "cell_type": "markdown",
   "id": "1c3d8971-d63b-4f91-ac28-6c920b58192e",
   "metadata": {},
   "source": [
    "### Create function to get nearby venues for each neighborhodd"
   ]
  },
  {
   "cell_type": "code",
   "execution_count": null,
   "id": "bdeb1246-dffa-4081-99e7-03b62b5dc114",
   "metadata": {},
   "outputs": [],
   "source": [
    "def getNearbyVenues(names, latitudes, longitudes, radius=2000):\n",
    "    \n",
    "    venues_list=[]\n",
    "    for name, lat, lng in zip(names, latitudes, longitudes):\n",
    "        print(name)\n",
    "            \n",
    "        # create the API request URL\n",
    "        url = 'https://api.foursquare.com/v2/venues/explore?&client_id={}&client_secret={}&v={}&ll={},{}&radius={}&limit={}'.format(\n",
    "            CLIENT_ID, \n",
    "            CLIENT_SECRET, \n",
    "            VERSION, \n",
    "            lat, \n",
    "            lng, \n",
    "            radius, \n",
    "            LIMIT)\n",
    "            \n",
    "        # make the GET request\n",
    "        results = requests.get(url).json()[\"response\"]['groups'][0]['items']\n",
    "        \n",
    "        # return only relevant information for each nearby venue\n",
    "        venues_list.append([(\n",
    "            name, \n",
    "            lat, \n",
    "            lng, \n",
    "            v['venue']['name'], \n",
    "            v['venue']['location']['lat'], \n",
    "            v['venue']['location']['lng'],  \n",
    "            v['venue']['categories'][0]['name']) for v in results])\n",
    "\n",
    "    nearby_venues = pd.DataFrame([item for venue_list in venues_list for item in venue_list])\n",
    "    nearby_venues.columns = ['Neighborhood', \n",
    "                  'Neighborhood Latitude', \n",
    "                  'Neighborhood Longitude', \n",
    "                  'Venue', \n",
    "                  'Venue Latitude', \n",
    "                  'Venue Longitude', \n",
    "                  'Venue Category']\n",
    "    \n",
    "    return(nearby_venues)"
   ]
  },
  {
   "cell_type": "markdown",
   "id": "0dc4fd8e-a365-4db0-a3a9-d24896af64e2",
   "metadata": {},
   "source": [
    "### Run the above function on each neighborhood and create a new dataframe"
   ]
  },
  {
   "cell_type": "code",
   "execution_count": null,
   "id": "6eeff6b7-230e-4cf9-bc81-ca014c21591f",
   "metadata": {},
   "outputs": [],
   "source": [
    "toronto_venues = getNearbyVenues(names=neighborhoods['Neighborhood'],\n",
    "                                   latitudes=neighborhoods['Latitude'],\n",
    "                                   longitudes=neighborhoods['Longitude']\n",
    "                                  )"
   ]
  },
  {
   "cell_type": "code",
   "execution_count": null,
   "id": "1a9097b6-1e79-4dd6-97c8-394f54775dcf",
   "metadata": {},
   "outputs": [],
   "source": [
    "toronto_venues.head()"
   ]
  },
  {
   "cell_type": "markdown",
   "id": "ddbf3cab-56aa-4dfc-b8cf-a6d1eccf4f07",
   "metadata": {},
   "source": [
    "## Analyze each neighborhood"
   ]
  },
  {
   "cell_type": "code",
   "execution_count": null,
   "id": "321390df-351c-42cc-9ea0-d8050b13b773",
   "metadata": {},
   "outputs": [],
   "source": [
    "# one hot encoding\n",
    "toronto_onehot = pd.get_dummies(toronto_venues[['Venue Category']], prefix=\"\", prefix_sep=\"\")\n",
    "\n",
    "# rename \"Neighborhood\" venue category to \"Neighborhood in General\"\n",
    "toronto_onehot.rename(columns={'Neighborhood':'Neighborhood in General'},inplace=True)\n",
    "\n",
    "# add neighborhood column back to dataframe\n",
    "toronto_onehot['Neighborhood'] = toronto_venues['Neighborhood'] \n",
    "\n",
    "# move neighborhood column to the first column\n",
    "fixed_columns = [toronto_onehot.columns[-1]] + list(toronto_onehot.columns[:-1])\n",
    "toronto_onehot = toronto_onehot[fixed_columns]\n",
    "\n",
    "toronto_onehot.head()"
   ]
  },
  {
   "cell_type": "markdown",
   "id": "359f4c26-3700-4591-b997-6a5ff4009b5a",
   "metadata": {},
   "source": [
    "### Group rows by neighborhood and by taking the mean of the frequency of occurrence of each category"
   ]
  },
  {
   "cell_type": "code",
   "execution_count": null,
   "id": "7e66a478-51a2-4657-83c8-5d992eeebf8d",
   "metadata": {},
   "outputs": [],
   "source": [
    "toronto_grouped = toronto_onehot.groupby('Neighborhood').mean().reset_index()\n",
    "toronto_grouped"
   ]
  },
  {
   "cell_type": "markdown",
   "id": "47b7bc1f-6690-47ff-ad04-7c4b8960f5d2",
   "metadata": {},
   "source": [
    "### Create new dataframe with \"vegetarian/vegan restaurants\" only"
   ]
  },
  {
   "cell_type": "code",
   "execution_count": null,
   "id": "3ae4fe48-960a-42a2-addd-eaedc44fd800",
   "metadata": {},
   "outputs": [],
   "source": [
    "toronto_grouped_veg = toronto_grouped[[\"Neighborhood\",\"Vegetarian / Vegan Restaurant\"]]"
   ]
  },
  {
   "cell_type": "code",
   "execution_count": null,
   "id": "c56d4744-4a20-43e6-8e75-968343ae5e14",
   "metadata": {},
   "outputs": [],
   "source": [
    "toronto_grouped_veg.head()"
   ]
  },
  {
   "cell_type": "markdown",
   "id": "0881d75e-86cf-440e-bd1c-40e4497b30a9",
   "metadata": {},
   "source": [
    "## Cluster neighborhoods"
   ]
  },
  {
   "cell_type": "markdown",
   "id": "4624c340-d9b2-45f5-9c9c-a5401c5c7c5d",
   "metadata": {},
   "source": [
    "### Run k-means to cluster the neighborhood into 3 clusters"
   ]
  },
  {
   "cell_type": "code",
   "execution_count": null,
   "id": "66b91d59-3f76-49eb-a922-ab93dcbca280",
   "metadata": {},
   "outputs": [],
   "source": [
    "kclusters = 3\n",
    "\n",
    "toronto_grouped_veg_clustering = toronto_grouped_veg.drop('Neighborhood', 1)\n",
    "\n",
    "# run k-means clustering\n",
    "kmeans = KMeans(n_clusters=kclusters, random_state=0).fit(toronto_grouped_veg_clustering)\n",
    "\n",
    "# check cluster labels generated for each row in the dataframe\n",
    "kmeans.labels_[0:10] "
   ]
  },
  {
   "cell_type": "markdown",
   "id": "4ef80f55-8385-44c7-84f8-62b524854ebf",
   "metadata": {},
   "source": [
    "### Create a new dataframe that includes cluster labels and geographical data"
   ]
  },
  {
   "cell_type": "code",
   "execution_count": null,
   "id": "b2e0906d-242a-4a71-b488-efbaddea8bee",
   "metadata": {},
   "outputs": [],
   "source": [
    "# create new dataframe with cluster labels\n",
    "toronto_merged = toronto_grouped_veg\n",
    "\n",
    "toronto_merged.insert(0, 'Cluster Labels', kmeans.labels_)\n",
    "\n",
    "# merge with toronto_data to add latitude/longitude for each neighborhood\n",
    "toronto_merged = toronto_merged.join(neighborhoods.set_index('Neighborhood'), on='Neighborhood')\n",
    "\n",
    "toronto_merged.head() "
   ]
  },
  {
   "cell_type": "markdown",
   "id": "c51c8b05-37d9-4569-b109-53a5855d0f19",
   "metadata": {},
   "source": [
    "### Sort results by frequency of vegetarian/vegan restaurants"
   ]
  },
  {
   "cell_type": "code",
   "execution_count": null,
   "id": "ec214f0a-3ae4-40ec-a94c-ab0f067d2f0f",
   "metadata": {},
   "outputs": [],
   "source": [
    "toronto_merged.sort_values(['Vegetarian / Vegan Restaurant'], ascending=False, inplace=True)\n",
    "toronto_merged"
   ]
  },
  {
   "cell_type": "markdown",
   "id": "045d0df1-bf09-494e-9d62-f2dc1942fd4e",
   "metadata": {},
   "source": [
    "### Map of the clusters"
   ]
  },
  {
   "cell_type": "code",
   "execution_count": null,
   "id": "92b428a4-86e1-4488-8196-98174d75e60c",
   "metadata": {},
   "outputs": [],
   "source": [
    "# create map\n",
    "map_clusters = folium.Map(location=[latitude, longitude], zoom_start=11)\n",
    "\n",
    "# set color scheme for the clusters\n",
    "x = np.arange(kclusters)\n",
    "ys = [i + x + (i*x)**2 for i in range(kclusters)]\n",
    "colors_array = cm.rainbow(np.linspace(0, 1, len(ys)))\n",
    "rainbow = [colors.rgb2hex(i) for i in colors_array]\n",
    "\n",
    "# add markers to the map\n",
    "markers_colors = []\n",
    "for lat, lon, poi, cluster in zip(toronto_merged['Latitude'], toronto_merged['Longitude'], toronto_merged['Neighborhood'], toronto_merged['Cluster Labels']):\n",
    "    label = folium.Popup(str(poi) + ' Cluster ' + str(cluster), parse_html=True)\n",
    "    folium.CircleMarker(\n",
    "        [lat, lon],\n",
    "        radius=5,\n",
    "        popup=label,\n",
    "        color=rainbow[cluster-1],\n",
    "        fill=True,\n",
    "        fill_color=rainbow[cluster-1],\n",
    "        fill_opacity=0.7).add_to(map_clusters)\n",
    "       \n",
    "map_clusters"
   ]
  },
  {
   "cell_type": "markdown",
   "id": "fd1d77cf-d25f-4d9c-98cd-438f4843b209",
   "metadata": {},
   "source": [
    "## Examine clusters"
   ]
  },
  {
   "cell_type": "markdown",
   "id": "8a66a508-3a42-48b0-ad48-0cb390ec9c48",
   "metadata": {},
   "source": [
    "### Cluster 0"
   ]
  },
  {
   "cell_type": "code",
   "execution_count": null,
   "id": "fefbd7f1-f179-4e11-b03d-a29aa85b601d",
   "metadata": {},
   "outputs": [],
   "source": [
    "toronto_merged.loc[toronto_merged['Cluster Labels'] == 0]"
   ]
  },
  {
   "cell_type": "markdown",
   "id": "b59c0af1-3519-4314-8562-56f0a91a4a84",
   "metadata": {},
   "source": [
    "### Cluster 1"
   ]
  },
  {
   "cell_type": "code",
   "execution_count": null,
   "id": "5e83cc6b-2916-48fd-bdfa-90a6d85b4926",
   "metadata": {},
   "outputs": [],
   "source": [
    "toronto_merged.loc[toronto_merged['Cluster Labels'] == 1]"
   ]
  },
  {
   "cell_type": "markdown",
   "id": "ac938b3f-e512-4016-ad1d-f18ee71321f6",
   "metadata": {},
   "source": [
    "### Cluster 2"
   ]
  },
  {
   "cell_type": "code",
   "execution_count": null,
   "id": "de2543ec-a9fb-4ff6-90e0-89681588080f",
   "metadata": {},
   "outputs": [],
   "source": [
    "toronto_merged.loc[toronto_merged['Cluster Labels'] == 2]"
   ]
  }
 ],
 "metadata": {
  "kernelspec": {
   "display_name": "Python",
   "language": "python",
   "name": "conda-env-python-py"
  },
  "language_info": {
   "codemirror_mode": {
    "name": "ipython",
    "version": 3
   },
   "file_extension": ".py",
   "mimetype": "text/x-python",
   "name": "python",
   "nbconvert_exporter": "python",
   "pygments_lexer": "ipython3",
   "version": "3.6.13"
  },
  "toc-autonumbering": true,
  "toc-showmarkdowntxt": false,
  "toc-showtags": false
 },
 "nbformat": 4,
 "nbformat_minor": 5
}
