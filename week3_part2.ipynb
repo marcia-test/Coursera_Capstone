{
 "cells": [
  {
   "cell_type": "markdown",
   "id": "14f72059-03da-430f-9012-31cadd17f069",
   "metadata": {
    "tags": []
   },
   "source": [
    "# Week 3 Assignment - Firts & Second Parts"
   ]
  },
  {
   "cell_type": "code",
   "execution_count": 1,
   "id": "04848b7f-b3fb-4d1d-a830-b7c2daa5ee22",
   "metadata": {
    "tags": []
   },
   "outputs": [
    {
     "name": "stdout",
     "output_type": "stream",
     "text": [
      "Requirement already satisfied: bs4 in /home/jupyterlab/conda/envs/python/lib/python3.6/site-packages (0.0.1)\n",
      "Requirement already satisfied: beautifulsoup4 in /home/jupyterlab/conda/envs/python/lib/python3.6/site-packages (from bs4) (4.9.3)\n",
      "Requirement already satisfied: soupsieve>1.2; python_version >= \"3.0\" in /home/jupyterlab/conda/envs/python/lib/python3.6/site-packages (from beautifulsoup4->bs4) (2.2.1)\n"
     ]
    }
   ],
   "source": [
    "!pip install bs4"
   ]
  },
  {
   "cell_type": "code",
   "execution_count": 2,
   "id": "82869522-ef00-4eba-a7f2-0f00c1ad981b",
   "metadata": {},
   "outputs": [],
   "source": [
    "import pandas as pd\n",
    "import requests\n",
    "from bs4 import BeautifulSoup"
   ]
  },
  {
   "cell_type": "markdown",
   "id": "dc6364a6-844c-4a98-9f66-ebe6438f7713",
   "metadata": {},
   "source": [
    "## FIRST PART - Scrape Toronto Neighborhood Data"
   ]
  },
  {
   "cell_type": "markdown",
   "id": "b6f04487-1943-4ba4-a460-3e1370bc3d25",
   "metadata": {},
   "source": [
    "#### Retrieve the Toronto neighborhood data at Wikipedia page and create a Beautiful soup object"
   ]
  },
  {
   "cell_type": "code",
   "execution_count": 3,
   "id": "3d7bbf23-533b-4c57-9d8d-beab501a3ad3",
   "metadata": {},
   "outputs": [],
   "source": [
    "url = \"https://en.wikipedia.org/wiki/List_of_postal_codes_of_Canada:_M\""
   ]
  },
  {
   "cell_type": "code",
   "execution_count": 4,
   "id": "c2837ea9-7525-410a-90d6-7c427ef6b68f",
   "metadata": {},
   "outputs": [],
   "source": [
    "data  = requests.get(url).text "
   ]
  },
  {
   "cell_type": "code",
   "execution_count": 5,
   "id": "2b2cd886-105f-4742-8b21-a670ac488897",
   "metadata": {},
   "outputs": [],
   "source": [
    "soup = BeautifulSoup(data,\"html5lib\")"
   ]
  },
  {
   "cell_type": "markdown",
   "id": "4a7f4d60-9f6a-40a0-b8da-5dd43900f874",
   "metadata": {},
   "source": [
    "#### Scrape the data, wrangle it and clean it"
   ]
  },
  {
   "cell_type": "code",
   "execution_count": 6,
   "id": "a74570e2-6279-4c7d-9e57-382a9503c47e",
   "metadata": {},
   "outputs": [],
   "source": [
    "table_contents=[]\n",
    "table=soup.find('table')\n",
    "for row in table.findAll('td'):\n",
    "    cell = {}\n",
    "    if row.span.text=='Not assigned':\n",
    "        pass\n",
    "    else:\n",
    "        cell['PostalCode'] = row.p.text[:3]\n",
    "        cell['Borough'] = (row.span.text).split('(')[0]\n",
    "        cell['Neighborhood'] = (((((row.span.text).split('(')[1]).strip(')')).replace(' /',',')).replace(')',' ')).strip(' ')\n",
    "        table_contents.append(cell)\n",
    "\n",
    "#print(table_contents)"
   ]
  },
  {
   "cell_type": "markdown",
   "id": "344cbb40-461c-41d4-b67c-b204474dbe59",
   "metadata": {},
   "source": [
    "#### Create a dataframe with the list generated"
   ]
  },
  {
   "cell_type": "code",
   "execution_count": 7,
   "id": "99cfb7f4-d1db-4773-aa45-b3de1b638a87",
   "metadata": {},
   "outputs": [],
   "source": [
    "df=pd.DataFrame(table_contents)\n",
    "df['Borough']=df['Borough'].replace({'Downtown TorontoStn A PO Boxes25 The Esplanade':'Downtown Toronto Stn A',\n",
    "                                             'East TorontoBusiness reply mail Processing Centre969 Eastern':'East Toronto Business',\n",
    "                                             'EtobicokeNorthwest':'Etobicoke Northwest','East YorkEast Toronto':'East York/East Toronto',\n",
    "                                             'MississaugaCanada Post Gateway Processing Centre':'Mississauga'})"
   ]
  },
  {
   "cell_type": "code",
   "execution_count": 8,
   "id": "a8ec0174-0988-4f66-b911-7f1c06a9d6a1",
   "metadata": {},
   "outputs": [
    {
     "data": {
      "text/html": [
       "<div>\n",
       "<style scoped>\n",
       "    .dataframe tbody tr th:only-of-type {\n",
       "        vertical-align: middle;\n",
       "    }\n",
       "\n",
       "    .dataframe tbody tr th {\n",
       "        vertical-align: top;\n",
       "    }\n",
       "\n",
       "    .dataframe thead th {\n",
       "        text-align: right;\n",
       "    }\n",
       "</style>\n",
       "<table border=\"1\" class=\"dataframe\">\n",
       "  <thead>\n",
       "    <tr style=\"text-align: right;\">\n",
       "      <th></th>\n",
       "      <th>PostalCode</th>\n",
       "      <th>Borough</th>\n",
       "      <th>Neighborhood</th>\n",
       "    </tr>\n",
       "  </thead>\n",
       "  <tbody>\n",
       "    <tr>\n",
       "      <th>0</th>\n",
       "      <td>M3A</td>\n",
       "      <td>North York</td>\n",
       "      <td>Parkwoods</td>\n",
       "    </tr>\n",
       "    <tr>\n",
       "      <th>1</th>\n",
       "      <td>M4A</td>\n",
       "      <td>North York</td>\n",
       "      <td>Victoria Village</td>\n",
       "    </tr>\n",
       "    <tr>\n",
       "      <th>2</th>\n",
       "      <td>M5A</td>\n",
       "      <td>Downtown Toronto</td>\n",
       "      <td>Regent Park, Harbourfront</td>\n",
       "    </tr>\n",
       "    <tr>\n",
       "      <th>3</th>\n",
       "      <td>M6A</td>\n",
       "      <td>North York</td>\n",
       "      <td>Lawrence Manor, Lawrence Heights</td>\n",
       "    </tr>\n",
       "    <tr>\n",
       "      <th>4</th>\n",
       "      <td>M7A</td>\n",
       "      <td>Queen's Park</td>\n",
       "      <td>Ontario Provincial Government</td>\n",
       "    </tr>\n",
       "  </tbody>\n",
       "</table>\n",
       "</div>"
      ],
      "text/plain": [
       "  PostalCode           Borough                      Neighborhood\n",
       "0        M3A        North York                         Parkwoods\n",
       "1        M4A        North York                  Victoria Village\n",
       "2        M5A  Downtown Toronto         Regent Park, Harbourfront\n",
       "3        M6A        North York  Lawrence Manor, Lawrence Heights\n",
       "4        M7A      Queen's Park     Ontario Provincial Government"
      ]
     },
     "execution_count": 8,
     "metadata": {},
     "output_type": "execute_result"
    }
   ],
   "source": [
    "df.head()"
   ]
  },
  {
   "cell_type": "code",
   "execution_count": 9,
   "id": "c2a871dd-2d28-4d66-b4c8-fc2be4618612",
   "metadata": {},
   "outputs": [
    {
     "data": {
      "text/plain": [
       "(103, 3)"
      ]
     },
     "execution_count": 9,
     "metadata": {},
     "output_type": "execute_result"
    }
   ],
   "source": [
    "df.shape"
   ]
  },
  {
   "cell_type": "markdown",
   "id": "0caa6ae5-c872-4144-9ad0-e078d48ef843",
   "metadata": {},
   "source": [
    "## SECOND PART - Get Latitude and Longitude Coordinates"
   ]
  },
  {
   "cell_type": "markdown",
   "id": "a0121b58-579c-4a2c-a016-ee5d7866e81c",
   "metadata": {},
   "source": [
    "#### Get the latitude and the longitude coordinates of each neighborhood from a csv file according to coursera instructions"
   ]
  },
  {
   "cell_type": "code",
   "execution_count": 10,
   "id": "bcb1aa0f-eb21-4bef-bf6e-7c93e8d03452",
   "metadata": {},
   "outputs": [
    {
     "data": {
      "text/html": [
       "<div>\n",
       "<style scoped>\n",
       "    .dataframe tbody tr th:only-of-type {\n",
       "        vertical-align: middle;\n",
       "    }\n",
       "\n",
       "    .dataframe tbody tr th {\n",
       "        vertical-align: top;\n",
       "    }\n",
       "\n",
       "    .dataframe thead th {\n",
       "        text-align: right;\n",
       "    }\n",
       "</style>\n",
       "<table border=\"1\" class=\"dataframe\">\n",
       "  <thead>\n",
       "    <tr style=\"text-align: right;\">\n",
       "      <th></th>\n",
       "      <th>Postal Code</th>\n",
       "      <th>Latitude</th>\n",
       "      <th>Longitude</th>\n",
       "    </tr>\n",
       "  </thead>\n",
       "  <tbody>\n",
       "    <tr>\n",
       "      <th>0</th>\n",
       "      <td>M1B</td>\n",
       "      <td>43.806686</td>\n",
       "      <td>-79.194353</td>\n",
       "    </tr>\n",
       "    <tr>\n",
       "      <th>1</th>\n",
       "      <td>M1C</td>\n",
       "      <td>43.784535</td>\n",
       "      <td>-79.160497</td>\n",
       "    </tr>\n",
       "    <tr>\n",
       "      <th>2</th>\n",
       "      <td>M1E</td>\n",
       "      <td>43.763573</td>\n",
       "      <td>-79.188711</td>\n",
       "    </tr>\n",
       "    <tr>\n",
       "      <th>3</th>\n",
       "      <td>M1G</td>\n",
       "      <td>43.770992</td>\n",
       "      <td>-79.216917</td>\n",
       "    </tr>\n",
       "    <tr>\n",
       "      <th>4</th>\n",
       "      <td>M1H</td>\n",
       "      <td>43.773136</td>\n",
       "      <td>-79.239476</td>\n",
       "    </tr>\n",
       "  </tbody>\n",
       "</table>\n",
       "</div>"
      ],
      "text/plain": [
       "  Postal Code   Latitude  Longitude\n",
       "0         M1B  43.806686 -79.194353\n",
       "1         M1C  43.784535 -79.160497\n",
       "2         M1E  43.763573 -79.188711\n",
       "3         M1G  43.770992 -79.216917\n",
       "4         M1H  43.773136 -79.239476"
      ]
     },
     "execution_count": 10,
     "metadata": {},
     "output_type": "execute_result"
    }
   ],
   "source": [
    "url_csv = \"https://cf-courses-data.s3.us.cloud-object-storage.appdomain.cloud/IBMDeveloperSkillsNetwork-DS0701EN-SkillsNetwork/labs_v1/Geospatial_Coordinates.csv\"\n",
    "ll_df = pd.read_csv(url_csv)\n",
    "ll_df.head()"
   ]
  },
  {
   "cell_type": "code",
   "execution_count": 11,
   "id": "7f6f69be-ed4d-4b83-8caf-206b0274e377",
   "metadata": {},
   "outputs": [],
   "source": [
    "ll_df.rename(columns={'Postal Code':'PostalCode'},inplace=True)"
   ]
  },
  {
   "cell_type": "code",
   "execution_count": 12,
   "id": "fc4b6c0b-9627-4d11-8997-0bd56294131e",
   "metadata": {},
   "outputs": [
    {
     "data": {
      "text/html": [
       "<div>\n",
       "<style scoped>\n",
       "    .dataframe tbody tr th:only-of-type {\n",
       "        vertical-align: middle;\n",
       "    }\n",
       "\n",
       "    .dataframe tbody tr th {\n",
       "        vertical-align: top;\n",
       "    }\n",
       "\n",
       "    .dataframe thead th {\n",
       "        text-align: right;\n",
       "    }\n",
       "</style>\n",
       "<table border=\"1\" class=\"dataframe\">\n",
       "  <thead>\n",
       "    <tr style=\"text-align: right;\">\n",
       "      <th></th>\n",
       "      <th>PostalCode</th>\n",
       "      <th>Latitude</th>\n",
       "      <th>Longitude</th>\n",
       "    </tr>\n",
       "  </thead>\n",
       "  <tbody>\n",
       "    <tr>\n",
       "      <th>0</th>\n",
       "      <td>M1B</td>\n",
       "      <td>43.806686</td>\n",
       "      <td>-79.194353</td>\n",
       "    </tr>\n",
       "    <tr>\n",
       "      <th>1</th>\n",
       "      <td>M1C</td>\n",
       "      <td>43.784535</td>\n",
       "      <td>-79.160497</td>\n",
       "    </tr>\n",
       "    <tr>\n",
       "      <th>2</th>\n",
       "      <td>M1E</td>\n",
       "      <td>43.763573</td>\n",
       "      <td>-79.188711</td>\n",
       "    </tr>\n",
       "    <tr>\n",
       "      <th>3</th>\n",
       "      <td>M1G</td>\n",
       "      <td>43.770992</td>\n",
       "      <td>-79.216917</td>\n",
       "    </tr>\n",
       "    <tr>\n",
       "      <th>4</th>\n",
       "      <td>M1H</td>\n",
       "      <td>43.773136</td>\n",
       "      <td>-79.239476</td>\n",
       "    </tr>\n",
       "  </tbody>\n",
       "</table>\n",
       "</div>"
      ],
      "text/plain": [
       "  PostalCode   Latitude  Longitude\n",
       "0        M1B  43.806686 -79.194353\n",
       "1        M1C  43.784535 -79.160497\n",
       "2        M1E  43.763573 -79.188711\n",
       "3        M1G  43.770992 -79.216917\n",
       "4        M1H  43.773136 -79.239476"
      ]
     },
     "execution_count": 12,
     "metadata": {},
     "output_type": "execute_result"
    }
   ],
   "source": [
    "ll_df.head()"
   ]
  },
  {
   "cell_type": "markdown",
   "id": "5040f967-209a-4b2d-882b-ffaa3941afcc",
   "metadata": {},
   "source": [
    "#### Create a new dataframe containing postal code, borought, neighborhood, latitude and longitude information"
   ]
  },
  {
   "cell_type": "code",
   "execution_count": 13,
   "id": "7edab731-15ab-4783-8f60-54af10ab8515",
   "metadata": {},
   "outputs": [],
   "source": [
    "neighborhoods = pd.merge(df, ll_df, on='PostalCode')"
   ]
  },
  {
   "cell_type": "code",
   "execution_count": 14,
   "id": "2afcbadf-c262-47c2-8a79-96b74439452a",
   "metadata": {},
   "outputs": [
    {
     "data": {
      "text/html": [
       "<div>\n",
       "<style scoped>\n",
       "    .dataframe tbody tr th:only-of-type {\n",
       "        vertical-align: middle;\n",
       "    }\n",
       "\n",
       "    .dataframe tbody tr th {\n",
       "        vertical-align: top;\n",
       "    }\n",
       "\n",
       "    .dataframe thead th {\n",
       "        text-align: right;\n",
       "    }\n",
       "</style>\n",
       "<table border=\"1\" class=\"dataframe\">\n",
       "  <thead>\n",
       "    <tr style=\"text-align: right;\">\n",
       "      <th></th>\n",
       "      <th>PostalCode</th>\n",
       "      <th>Borough</th>\n",
       "      <th>Neighborhood</th>\n",
       "      <th>Latitude</th>\n",
       "      <th>Longitude</th>\n",
       "    </tr>\n",
       "  </thead>\n",
       "  <tbody>\n",
       "    <tr>\n",
       "      <th>0</th>\n",
       "      <td>M3A</td>\n",
       "      <td>North York</td>\n",
       "      <td>Parkwoods</td>\n",
       "      <td>43.753259</td>\n",
       "      <td>-79.329656</td>\n",
       "    </tr>\n",
       "    <tr>\n",
       "      <th>1</th>\n",
       "      <td>M4A</td>\n",
       "      <td>North York</td>\n",
       "      <td>Victoria Village</td>\n",
       "      <td>43.725882</td>\n",
       "      <td>-79.315572</td>\n",
       "    </tr>\n",
       "    <tr>\n",
       "      <th>2</th>\n",
       "      <td>M5A</td>\n",
       "      <td>Downtown Toronto</td>\n",
       "      <td>Regent Park, Harbourfront</td>\n",
       "      <td>43.654260</td>\n",
       "      <td>-79.360636</td>\n",
       "    </tr>\n",
       "    <tr>\n",
       "      <th>3</th>\n",
       "      <td>M6A</td>\n",
       "      <td>North York</td>\n",
       "      <td>Lawrence Manor, Lawrence Heights</td>\n",
       "      <td>43.718518</td>\n",
       "      <td>-79.464763</td>\n",
       "    </tr>\n",
       "    <tr>\n",
       "      <th>4</th>\n",
       "      <td>M7A</td>\n",
       "      <td>Queen's Park</td>\n",
       "      <td>Ontario Provincial Government</td>\n",
       "      <td>43.662301</td>\n",
       "      <td>-79.389494</td>\n",
       "    </tr>\n",
       "    <tr>\n",
       "      <th>...</th>\n",
       "      <td>...</td>\n",
       "      <td>...</td>\n",
       "      <td>...</td>\n",
       "      <td>...</td>\n",
       "      <td>...</td>\n",
       "    </tr>\n",
       "    <tr>\n",
       "      <th>98</th>\n",
       "      <td>M8X</td>\n",
       "      <td>Etobicoke</td>\n",
       "      <td>The Kingsway, Montgomery Road, Old Mill North</td>\n",
       "      <td>43.653654</td>\n",
       "      <td>-79.506944</td>\n",
       "    </tr>\n",
       "    <tr>\n",
       "      <th>99</th>\n",
       "      <td>M4Y</td>\n",
       "      <td>Downtown Toronto</td>\n",
       "      <td>Church and Wellesley</td>\n",
       "      <td>43.665860</td>\n",
       "      <td>-79.383160</td>\n",
       "    </tr>\n",
       "    <tr>\n",
       "      <th>100</th>\n",
       "      <td>M7Y</td>\n",
       "      <td>East Toronto Business</td>\n",
       "      <td>Enclave of M4L</td>\n",
       "      <td>43.662744</td>\n",
       "      <td>-79.321558</td>\n",
       "    </tr>\n",
       "    <tr>\n",
       "      <th>101</th>\n",
       "      <td>M8Y</td>\n",
       "      <td>Etobicoke</td>\n",
       "      <td>Old Mill South, King's Mill Park, Sunnylea, Hu...</td>\n",
       "      <td>43.636258</td>\n",
       "      <td>-79.498509</td>\n",
       "    </tr>\n",
       "    <tr>\n",
       "      <th>102</th>\n",
       "      <td>M8Z</td>\n",
       "      <td>Etobicoke</td>\n",
       "      <td>Mimico NW, The Queensway West, South of Bloor,...</td>\n",
       "      <td>43.628841</td>\n",
       "      <td>-79.520999</td>\n",
       "    </tr>\n",
       "  </tbody>\n",
       "</table>\n",
       "<p>103 rows × 5 columns</p>\n",
       "</div>"
      ],
      "text/plain": [
       "    PostalCode                Borough  \\\n",
       "0          M3A             North York   \n",
       "1          M4A             North York   \n",
       "2          M5A       Downtown Toronto   \n",
       "3          M6A             North York   \n",
       "4          M7A           Queen's Park   \n",
       "..         ...                    ...   \n",
       "98         M8X              Etobicoke   \n",
       "99         M4Y       Downtown Toronto   \n",
       "100        M7Y  East Toronto Business   \n",
       "101        M8Y              Etobicoke   \n",
       "102        M8Z              Etobicoke   \n",
       "\n",
       "                                          Neighborhood   Latitude  Longitude  \n",
       "0                                            Parkwoods  43.753259 -79.329656  \n",
       "1                                     Victoria Village  43.725882 -79.315572  \n",
       "2                            Regent Park, Harbourfront  43.654260 -79.360636  \n",
       "3                     Lawrence Manor, Lawrence Heights  43.718518 -79.464763  \n",
       "4                        Ontario Provincial Government  43.662301 -79.389494  \n",
       "..                                                 ...        ...        ...  \n",
       "98       The Kingsway, Montgomery Road, Old Mill North  43.653654 -79.506944  \n",
       "99                                Church and Wellesley  43.665860 -79.383160  \n",
       "100                                     Enclave of M4L  43.662744 -79.321558  \n",
       "101  Old Mill South, King's Mill Park, Sunnylea, Hu...  43.636258 -79.498509  \n",
       "102  Mimico NW, The Queensway West, South of Bloor,...  43.628841 -79.520999  \n",
       "\n",
       "[103 rows x 5 columns]"
      ]
     },
     "execution_count": 14,
     "metadata": {},
     "output_type": "execute_result"
    }
   ],
   "source": [
    "neighborhoods"
   ]
  },
  {
   "cell_type": "code",
   "execution_count": null,
   "id": "6db8b488-13ff-4a08-a415-9039e5a898a6",
   "metadata": {},
   "outputs": [],
   "source": []
  }
 ],
 "metadata": {
  "kernelspec": {
   "display_name": "Python",
   "language": "python",
   "name": "conda-env-python-py"
  },
  "language_info": {
   "codemirror_mode": {
    "name": "ipython",
    "version": 3
   },
   "file_extension": ".py",
   "mimetype": "text/x-python",
   "name": "python",
   "nbconvert_exporter": "python",
   "pygments_lexer": "ipython3",
   "version": "3.6.13"
  }
 },
 "nbformat": 4,
 "nbformat_minor": 5
}
